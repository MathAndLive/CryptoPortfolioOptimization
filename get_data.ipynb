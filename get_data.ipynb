{
 "cells": [
  {
   "cell_type": "markdown",
   "id": "264c5f4e",
   "metadata": {},
   "source": [
    "Загрузка данных"
   ]
  },
  {
   "cell_type": "code",
   "execution_count": 7,
   "id": "5c30447f",
   "metadata": {},
   "outputs": [],
   "source": [
    "from alpaca.data.timeframe import TimeFrame\n",
    "from alpaca.data.historical import CryptoHistoricalDataClient\n",
    "from alpaca.data.requests import CryptoBarsRequest\n",
    "import datetime\n",
    "\n",
    "API_KEY = \"PK1W6UGQYV6DJYD9HEP7\"\n",
    "SECRET_KEY = \"ndH61mpUAGkK7jNKM8fgl1EvjUQKf0yDofyYP0pe\"\n",
    "\n",
    "client = CryptoHistoricalDataClient()\n",
    "request_params = CryptoBarsRequest(\n",
    "  symbol_or_symbols=[\"BTC/USD\", 'ETH/USD', 'USDT/USD', 'XRP/USD', 'SOL/USD', 'USDC/USD', 'DOGE/USD', 'BCH/USD', 'LINK/USD', 'AVAX/USD'],\n",
    "  timeframe=TimeFrame.Day,\n",
    "  start=datetime.datetime(2020, 7, 1),\n",
    "  end=datetime.datetime(2025, 7, 1)\n",
    ")\n",
    "\n",
    "btc_bars = client.get_crypto_bars(request_params)\n",
    "\n",
    "df = btc_bars.df"
   ]
  },
  {
   "cell_type": "markdown",
   "id": "0723fa9c",
   "metadata": {},
   "source": [
    "Добавление меток о сезоне и дне недели"
   ]
  },
  {
   "cell_type": "code",
   "execution_count": 8,
   "id": "066836e9",
   "metadata": {},
   "outputs": [],
   "source": [
    "import pandas as pd\n",
    "\n",
    "ts = df.index.get_level_values('timestamp')\n",
    "ts = pd.to_datetime(ts)\n",
    "\n",
    "dow_dummies = pd.get_dummies(ts.day_name(), prefix='is', dtype=bool).reindex(\n",
    "    columns=['is_Monday', 'is_Tuesday', 'is_Wednesday', 'is_Thursday',\n",
    "             'is_Friday', 'is_Saturday', 'is_Sunday'], fill_value=False)\n",
    "\n",
    "def season(month):\n",
    "    if month in (12, 1, 2):\n",
    "        return 'winter'\n",
    "    elif month in (3, 4, 5):\n",
    "        return 'spring'\n",
    "    elif month in (6, 7, 8):\n",
    "        return 'summer'\n",
    "    else:\n",
    "        return 'autumn'\n",
    "\n",
    "season_dummies = pd.get_dummies([season(m) for m in ts.month], prefix='is', dtype=bool).reindex(\n",
    "    columns=['is_winter', 'is_spring', 'is_summer', 'is_autumn'], fill_value=False)\n",
    "\n",
    "dow_dummies.index = df.index\n",
    "season_dummies.index = df.index\n",
    "\n",
    "df = df.join(dow_dummies).join(season_dummies)"
   ]
  },
  {
   "cell_type": "markdown",
   "id": "14f3d8ec",
   "metadata": {},
   "source": [
    "Добавление индекса страха и жадности"
   ]
  },
  {
   "cell_type": "code",
   "execution_count": 9,
   "id": "64480e32",
   "metadata": {},
   "outputs": [],
   "source": [
    "import requests\n",
    "\n",
    "def get_fear_greed_data():\n",
    "    url = \"https://api.alternative.me/fng/?limit=0&format=json\"\n",
    "    response = requests.get(url)\n",
    "    data = response.json()['data']\n",
    "    df = pd.DataFrame(data)\n",
    "    df['timestamp'] = pd.to_datetime(df['timestamp'].astype(int), unit='s').dt.date\n",
    "    df['fear&greed'] = df['value'].astype(int)\n",
    "    return df[['timestamp', 'fear&greed']]\n",
    "\n",
    "fng_df = get_fear_greed_data()\n",
    "\n",
    "df = df.reset_index()\n",
    "df['date'] = df['timestamp'].dt.date\n",
    "\n",
    "df = df.merge(fng_df, how='left', left_on='date', right_on='timestamp')\n",
    "\n",
    "df = df.drop(columns=['timestamp_y', 'date'])\n",
    "df = df.rename(columns={'timestamp_x': 'timestamp'})\n",
    "\n",
    "df = df.set_index(['symbol', 'timestamp'])"
   ]
  },
  {
   "cell_type": "markdown",
   "id": "5f6aa0d6",
   "metadata": {},
   "source": [
    "Подготовка к предобработке"
   ]
  },
  {
   "cell_type": "code",
   "execution_count": 10,
   "id": "20e5dfa1",
   "metadata": {},
   "outputs": [],
   "source": [
    "import numpy as np\n",
    "\n",
    "df = df.sort_index(level=[\"symbol\", \"timestamp\"])\n",
    "\n",
    "TRAIN_END = pd.Timestamp(\"2024-12-31\", tz=\"UTC\")\n",
    "VAL_END   = pd.Timestamp(\"2025-04-30\", tz=\"UTC\")\n",
    "\n",
    "FEATURE_COLS = [\n",
    "    \"open\", \"high\", \"low\", \"close\", \"volume\",\n",
    "    \"trade_count\", \"vwap\", \"fear&greed\"\n",
    "]"
   ]
  },
  {
   "cell_type": "markdown",
   "id": "5110862c",
   "metadata": {},
   "source": [
    "Заполнение пропуска"
   ]
  },
  {
   "cell_type": "code",
   "execution_count": 11,
   "id": "d229468a",
   "metadata": {},
   "outputs": [
    {
     "data": {
      "text/plain": [
       "False"
      ]
     },
     "execution_count": 11,
     "metadata": {},
     "output_type": "execute_result"
    }
   ],
   "source": [
    "date_to_fix = pd.Timestamp('2024-10-26', tz='UTC')\n",
    "ts_index = df.index.get_level_values('timestamp').normalize()\n",
    "mask_date = ts_index == date_to_fix\n",
    "df.loc[mask_date, 'fear&greed'] = df.loc[mask_date, 'fear&greed'].fillna(50)\n",
    "df.isna().any().any()\n"
   ]
  },
  {
   "cell_type": "markdown",
   "id": "4c9e3d34",
   "metadata": {},
   "source": [
    "Заполнение нулей скользящим средним"
   ]
  },
  {
   "cell_type": "code",
   "execution_count": 14,
   "id": "6e4d92b6",
   "metadata": {},
   "outputs": [
    {
     "data": {
      "text/html": [
       "<div>\n",
       "<style scoped>\n",
       "    .dataframe tbody tr th:only-of-type {\n",
       "        vertical-align: middle;\n",
       "    }\n",
       "\n",
       "    .dataframe tbody tr th {\n",
       "        vertical-align: top;\n",
       "    }\n",
       "\n",
       "    .dataframe thead th {\n",
       "        text-align: right;\n",
       "    }\n",
       "</style>\n",
       "<table border=\"1\" class=\"dataframe\">\n",
       "  <thead>\n",
       "    <tr style=\"text-align: right;\">\n",
       "      <th></th>\n",
       "      <th></th>\n",
       "      <th>open</th>\n",
       "      <th>high</th>\n",
       "      <th>low</th>\n",
       "      <th>close</th>\n",
       "      <th>volume</th>\n",
       "      <th>trade_count</th>\n",
       "      <th>vwap</th>\n",
       "      <th>is_Monday</th>\n",
       "      <th>is_Tuesday</th>\n",
       "      <th>is_Wednesday</th>\n",
       "      <th>is_Thursday</th>\n",
       "      <th>is_Friday</th>\n",
       "      <th>is_Saturday</th>\n",
       "      <th>is_Sunday</th>\n",
       "      <th>is_winter</th>\n",
       "      <th>is_spring</th>\n",
       "      <th>is_summer</th>\n",
       "      <th>is_autumn</th>\n",
       "      <th>fear&amp;greed</th>\n",
       "    </tr>\n",
       "    <tr>\n",
       "      <th>symbol</th>\n",
       "      <th>timestamp</th>\n",
       "      <th></th>\n",
       "      <th></th>\n",
       "      <th></th>\n",
       "      <th></th>\n",
       "      <th></th>\n",
       "      <th></th>\n",
       "      <th></th>\n",
       "      <th></th>\n",
       "      <th></th>\n",
       "      <th></th>\n",
       "      <th></th>\n",
       "      <th></th>\n",
       "      <th></th>\n",
       "      <th></th>\n",
       "      <th></th>\n",
       "      <th></th>\n",
       "      <th></th>\n",
       "      <th></th>\n",
       "      <th></th>\n",
       "    </tr>\n",
       "  </thead>\n",
       "  <tbody>\n",
       "  </tbody>\n",
       "</table>\n",
       "</div>"
      ],
      "text/plain": [
       "Empty DataFrame\n",
       "Columns: [open, high, low, close, volume, trade_count, vwap, is_Monday, is_Tuesday, is_Wednesday, is_Thursday, is_Friday, is_Saturday, is_Sunday, is_winter, is_spring, is_summer, is_autumn, fear&greed]\n",
       "Index: []"
      ]
     },
     "execution_count": 14,
     "metadata": {},
     "output_type": "execute_result"
    }
   ],
   "source": [
    "num_cols = df.select_dtypes(include=['number']).columns\n",
    "zero_mask = (df[num_cols] == 0).any(axis=1)\n",
    "df_zeros = df[zero_mask]\n",
    "df_zeros"
   ]
  },
  {
   "cell_type": "code",
   "execution_count": 13,
   "id": "9cdbacb7",
   "metadata": {},
   "outputs": [],
   "source": [
    "for col in ['volume', 'trade_count', 'vwap']:\n",
    "    df[col] = df[col].replace(0, np.nan)\n",
    "    df[col] = df.groupby(level='symbol')[col].transform(\n",
    "        lambda x: x.fillna(x.rolling(window=3, min_periods=1, center=True).mean())\n",
    "    )\n"
   ]
  },
  {
   "cell_type": "markdown",
   "id": "2f294d38",
   "metadata": {},
   "source": [
    "Обрабатываем выбросы логарифмированием"
   ]
  },
  {
   "cell_type": "code",
   "execution_count": 15,
   "id": "f847b4a7",
   "metadata": {},
   "outputs": [],
   "source": [
    "for col in FEATURE_COLS:\n",
    "    df[col] = np.log(df[col])"
   ]
  },
  {
   "cell_type": "markdown",
   "id": "639cc2e2",
   "metadata": {},
   "source": [
    "Делим выборку и масштабируем количественные признаки"
   ]
  },
  {
   "cell_type": "code",
   "execution_count": 17,
   "id": "e4ecc47a",
   "metadata": {},
   "outputs": [],
   "source": [
    "from sklearn.preprocessing import StandardScaler\n",
    "\n",
    "idx_ts = df.index.get_level_values(\"timestamp\")\n",
    "\n",
    "train = df[idx_ts <= TRAIN_END]\n",
    "val   = df[(idx_ts > TRAIN_END) & (idx_ts <= VAL_END)]\n",
    "test  = df[idx_ts > VAL_END]\n",
    "\n",
    "feature_scalers = {}\n",
    "train_scaled_list = []\n",
    "val_scaled_list   = []\n",
    "test_scaled_list  = []\n",
    "\n",
    "for sym, g_train in train.groupby(level=\"symbol\"):\n",
    "    sc_feat = StandardScaler()\n",
    "    sc_feat.fit(g_train[FEATURE_COLS])\n",
    "    feature_scalers[sym] = sc_feat\n",
    "\n",
    "    def scale_split(split_df):\n",
    "        g = split_df.xs(sym, level=\"symbol\", drop_level=False).copy()\n",
    "        g[FEATURE_COLS] = sc_feat.transform(g[FEATURE_COLS])\n",
    "        return g\n",
    "\n",
    "    train_scaled_list.append(scale_split(train))\n",
    "    val_scaled_list.append(scale_split(val))\n",
    "    test_scaled_list.append(scale_split(test))\n",
    "\n",
    "train_scaled = pd.concat(train_scaled_list).sort_index()\n",
    "val_scaled   = pd.concat(val_scaled_list).sort_index()\n",
    "test_scaled  = pd.concat(test_scaled_list).sort_index()\n"
   ]
  }
 ],
 "metadata": {
  "kernelspec": {
   "display_name": "Python 3",
   "language": "python",
   "name": "python3"
  },
  "language_info": {
   "codemirror_mode": {
    "name": "ipython",
    "version": 3
   },
   "file_extension": ".py",
   "mimetype": "text/x-python",
   "name": "python",
   "nbconvert_exporter": "python",
   "pygments_lexer": "ipython3",
   "version": "3.12.0"
  }
 },
 "nbformat": 4,
 "nbformat_minor": 5
}
