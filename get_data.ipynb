{
 "cells": [
  {
   "cell_type": "code",
   "execution_count": null,
   "id": "5c30447f",
   "metadata": {},
   "outputs": [],
   "source": [
    "from alpaca.data.timeframe import TimeFrame\n",
    "from alpaca.data.historical import CryptoHistoricalDataClient\n",
    "from alpaca.data.requests import CryptoBarsRequest\n",
    "import datetime\n",
    "\n",
    "API_KEY = \"PK1W6UGQYV6DJYD9HEP7\"\n",
    "SECRET_KEY = \"ndH61mpUAGkK7jNKM8fgl1EvjUQKf0yDofyYP0pe\"\n",
    "\n",
    "client = CryptoHistoricalDataClient()\n",
    "request_params = CryptoBarsRequest(\n",
    "  symbol_or_symbols=[\"BTC/USD\", 'ETH/USD', 'USDT/USD', 'XRP/USD', 'BNB/USD', 'SOL/USD', 'USDC/USD', 'TRX/USD', 'DOGE/USD', 'ADA/USD'],\n",
    "  timeframe=TimeFrame.Day,\n",
    "  start=datetime.datetime(2022, 9, 1),\n",
    "  end=datetime.datetime(2025, 7, 7)\n",
    ")\n",
    "\n",
    "btc_bars = client.get_crypto_bars(request_params)\n",
    "\n",
    "df = btc_bars.df"
   ]
  }
 ],
 "metadata": {
  "kernelspec": {
   "display_name": "Python 3",
   "language": "python",
   "name": "python3"
  },
  "language_info": {
   "name": "python",
   "version": "3.12.0"
  }
 },
 "nbformat": 4,
 "nbformat_minor": 5
}
